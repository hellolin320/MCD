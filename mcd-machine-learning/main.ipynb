{
 "cells": [
  {
   "cell_type": "code",
   "execution_count": 1,
   "metadata": {
    "collapsed": true,
    "pycharm": {
     "name": "#%%\n"
    }
   },
   "outputs": [],
   "source": [
    "# 导包\n",
    "from utils.query import query\n",
    "from snownlp import SnowNLP\n",
    "import csv\n",
    "import os\n",
    "import csv\n",
    "import joblib\n",
    "import re\n",
    "import pandas as pd\n",
    "from sklearn.model_selection import train_test_split\n",
    "from sklearn.feature_extraction.text import TfidfVectorizer\n",
    "from sklearn.naive_bayes import MultinomialNB\n",
    "from sklearn.metrics import accuracy_score"
   ]
  },
  {
   "cell_type": "code",
   "execution_count": 2,
   "outputs": [],
   "source": [
    "# 从数据库读取数据\n",
    "def getAllCommentData():\n",
    "    commentList=query('select * from all_reviews',[],'select')\n",
    "    return commentList"
   ],
   "metadata": {
    "collapsed": false,
    "pycharm": {
     "name": "#%%\n"
    }
   }
  },
  {
   "cell_type": "code",
   "execution_count": 3,
   "outputs": [],
   "source": [
    "# 根据snow库进行标注\n",
    "def targetFile():\n",
    "    targetFile='target.csv'\n",
    "    commentList=getAllCommentData()\n",
    "\n",
    "    rateData=[]\n",
    "    good=0\n",
    "    bad=0\n",
    "    middle=0\n",
    "\n",
    "    for index,i in enumerate(commentList):\n",
    "        value=SnowNLP(i[6]).sentiments\n",
    "        if value>0.5:\n",
    "            good+=1\n",
    "            rateData.append([i[6],'积极'])\n",
    "        elif value==0.5:\n",
    "            middle+=1\n",
    "            rateData.append([i[6],'中性'])\n",
    "        elif value<0.5:\n",
    "            bad+=1\n",
    "            rateData.append([i[6],'消极'])\n",
    "\n",
    "    with open(targetFile,'a+',encoding='utf8',newline='') as f:\n",
    "        writer=csv.writer(f)\n",
    "        writer.writerows(rateData)"
   ],
   "metadata": {
    "collapsed": false,
    "pycharm": {
     "name": "#%%\n"
    }
   }
  },
  {
   "cell_type": "code",
   "execution_count": 4,
   "outputs": [],
   "source": [
    "targetFile()"
   ],
   "metadata": {
    "collapsed": false,
    "pycharm": {
     "name": "#%%\n"
    }
   }
  },
  {
   "cell_type": "code",
   "execution_count": 5,
   "outputs": [],
   "source": [
    "# 从上面的文件取得数据\n",
    "def getSentiment_data():\n",
    "    sentiment_data=[]\n",
    "    with open('target.csv','r',encoding='utf8') as readerFile:\n",
    "        reader=csv.reader(readerFile)\n",
    "        for data in reader:\n",
    "            sentiment_data.append(data)\n",
    "    return sentiment_data"
   ],
   "metadata": {
    "collapsed": false,
    "pycharm": {
     "name": "#%%\n"
    }
   }
  },
  {
   "cell_type": "code",
   "execution_count": 6,
   "outputs": [],
   "source": [
    "# 模型训练\n",
    "def model_train():\n",
    "    sentiment_data=getSentiment_data()\n",
    "    df=pd.DataFrame(sentiment_data,columns=['text','sentiment'])\n",
    "\n",
    "    # 清洗\n",
    "    df['text'] = df['text'].str.replace('\\n', '')\n",
    "    df['text'] = df['text'].str.replace('\\t', '')\n",
    "    df['text'] = df['text'].apply(lambda x: re.sub(r'[^\\u4e00-\\u9fa5a-zA-Z0-9\\s\\.,!?，。！？]', '', str(x)))\n",
    "\n",
    "    train_data,test_data=train_test_split(df,test_size=0.2,random_state=42)\n",
    "\n",
    "    vectorize=TfidfVectorizer()\n",
    "\n",
    "    X_train=vectorize.fit_transform(train_data['text'])\n",
    "    y_train=train_data['sentiment']\n",
    "    X_test=vectorize.transform(test_data['text'])\n",
    "    y_test=test_data['sentiment']\n",
    "\n",
    "    classifier=MultinomialNB()\n",
    "    classifier.fit(X_train,y_train)\n",
    "\n",
    "    y_pred=classifier.predict(X_test)\n",
    "\n",
    "    accuracy=accuracy_score(y_test,y_pred)\n",
    "\n",
    "    joblib.dump(classifier, 'sentiment_model.joblib')\n",
    "\n",
    "    print(accuracy)"
   ],
   "metadata": {
    "collapsed": false,
    "pycharm": {
     "name": "#%%\n"
    }
   }
  },
  {
   "cell_type": "code",
   "execution_count": 7,
   "outputs": [
    {
     "name": "stdout",
     "output_type": "stream",
     "text": [
      "0.6987242394504416\n"
     ]
    }
   ],
   "source": [
    "model_train()"
   ],
   "metadata": {
    "collapsed": false,
    "pycharm": {
     "name": "#%%\n"
    }
   }
  },
  {
   "cell_type": "code",
   "execution_count": null,
   "outputs": [],
   "source": [],
   "metadata": {
    "collapsed": false,
    "pycharm": {
     "name": "#%%\n"
    }
   }
  }
 ],
 "metadata": {
  "kernelspec": {
   "display_name": "Python 3",
   "language": "python",
   "name": "python3"
  },
  "language_info": {
   "codemirror_mode": {
    "name": "ipython",
    "version": 2
   },
   "file_extension": ".py",
   "mimetype": "text/x-python",
   "name": "python",
   "nbconvert_exporter": "python",
   "pygments_lexer": "ipython2",
   "version": "2.7.6"
  }
 },
 "nbformat": 4,
 "nbformat_minor": 0
}